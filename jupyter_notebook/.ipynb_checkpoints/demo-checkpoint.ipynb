{
 "cells": [
  {
   "cell_type": "code",
   "execution_count": 2,
   "metadata": {},
   "outputs": [
    {
     "name": "stdout",
     "output_type": "stream",
     "text": [
      "(1000, 26)\n"
     ]
    }
   ],
   "source": [
    "import sys\n",
    "import os\n",
    "import util\n",
    "import pandas as pd\n",
    "import numpy as np\n",
    "from sklearn.model_selection import train_test_split\n",
    "from data_helper import excel_file, excel_path, worksheets, num_sample, output\n",
    "from training import learning_algorithm\n",
    "from util import write_output\n",
    "\n",
    "\n",
    "def extract_feature(sheet, num_sample):\n",
    "    matrix_numpy = []\n",
    "    for i in range(num_sample):\n",
    "        matrix_numpy.append(sheet.loc[i, :].to_numpy())\n",
    "    return matrix_numpy\n",
    "\n",
    "\n",
    "try:\n",
    "    from_id = int(sys.argv[1])\n",
    "    to_id = int(sys.argv[2])\n",
    "except:\n",
    "    from_id = 0\n",
    "    to_id = len(excel_file)\n",
    "# Choose some multioutput regression\n",
    "binary_regression = [1, 1, 1, 1, 1, 1, 1, 1]\n",
    "algo_regression_flag = [i for i, reg in enumerate(binary_regression) if reg == 1]\n",
    "\n",
    "i_file = 0\n",
    "excel_file_path = os.path.join(excel_path, excel_file[i_file])\n",
    "xls = pd.ExcelFile(excel_file_path)\n",
    "\n",
    "D_train = None\n",
    "D_test = None\n",
    "\n",
    "worksheet = worksheets[0]\n",
    "df = pd.read_excel(xls, worksheet)\n",
    "\n",
    "print(df.shape)"
   ]
  },
  {
   "cell_type": "code",
   "execution_count": 15,
   "metadata": {},
   "outputs": [],
   "source": [
    "a = df.iloc[:100,:].to_numpy()\n",
    "b = df.iloc[:200,:].to_numpy()"
   ]
  },
  {
   "cell_type": "code",
   "execution_count": 17,
   "metadata": {},
   "outputs": [
    {
     "data": {
      "text/plain": [
       "(300, 26)"
      ]
     },
     "execution_count": 17,
     "metadata": {},
     "output_type": "execute_result"
    }
   ],
   "source": [
    "np.concatenate((a,b)).shape"
   ]
  },
  {
   "cell_type": "code",
   "execution_count": 4,
   "metadata": {},
   "outputs": [
    {
     "data": {
      "text/plain": [
       "range(0, 23)"
      ]
     },
     "execution_count": 4,
     "metadata": {},
     "output_type": "execute_result"
    }
   ],
   "source": [
    "x = range(0,23)\n",
    "x"
   ]
  },
  {
   "cell_type": "code",
   "execution_count": 5,
   "metadata": {},
   "outputs": [],
   "source": [
    "import pandas as pd"
   ]
  },
  {
   "cell_type": "code",
   "execution_count": 9,
   "metadata": {},
   "outputs": [],
   "source": [
    "xls = pd.ExcelFile('C:\\\\Users\\\\Administrator\\\\Desktop\\\\Code_Test\\\\Code_CHARM_Vu_Luong_Fix_Bug\\\\CHARM_Example-MC_Scenarios-master\\\\data\\\\CHARM_Example-MC_Scenarios_v2.xlsx')"
   ]
  },
  {
   "cell_type": "code",
   "execution_count": 12,
   "metadata": {},
   "outputs": [],
   "source": [
    "worksheets = [\"Base Case\", \"Scenario 1\", \"Scenario 2\", \"Scenario 3\", \"Scenario 4\", \"Scenario 5\", \"Scenario 6\",\n",
    "              \"Scenario 7\", \"Scenario 8\"]"
   ]
  },
  {
   "cell_type": "code",
   "execution_count": 27,
   "metadata": {},
   "outputs": [
    {
     "data": {
      "text/plain": [
       "(500, 26)"
      ]
     },
     "execution_count": 27,
     "metadata": {},
     "output_type": "execute_result"
    }
   ],
   "source": [
    "for worksheet in worksheets:\n",
    "    df = pd.read_excel(xls, worksheet)\n",
    "    cur_train = df.iloc[:500, :].to_numpy()\n",
    "    cur_test = df.iloc[500:, :].to_numpy()\n",
    "    break\n",
    "cur_test.shape"
   ]
  },
  {
   "cell_type": "code",
   "execution_count": 49,
   "metadata": {},
   "outputs": [
    {
     "name": "stdout",
     "output_type": "stream",
     "text": [
      "c =  [[3 4]\n",
      " [0 1]\n",
      " [1 0]]\n",
      "b =  [[1.  inf]\n",
      " [inf inf]\n",
      " [0.5 inf]]\n",
      "[[3.  inf]\n",
      " [nan inf]\n",
      " [0.5 nan]]\n",
      "(3, 2)\n"
     ]
    },
    {
     "name": "stderr",
     "output_type": "stream",
     "text": [
      "c:\\programdata\\anaconda3\\envs\\python36\\lib\\site-packages\\ipykernel_launcher.py:7: RuntimeWarning: divide by zero encountered in true_divide\n",
      "  import sys\n",
      "c:\\programdata\\anaconda3\\envs\\python36\\lib\\site-packages\\ipykernel_launcher.py:9: RuntimeWarning: invalid value encountered in multiply\n",
      "  if __name__ == '__main__':\n"
     ]
    },
    {
     "data": {
      "text/plain": [
       "inf"
      ]
     },
     "execution_count": 49,
     "metadata": {},
     "output_type": "execute_result"
    }
   ],
   "source": [
    "import numpy as np\n",
    "import pandas as pd\n",
    "D = None\n",
    "a = np.array([[1, 0],[0,0],[2,0]])\n",
    "c = np.array([[3,4],[0,1],[1,0]])\n",
    "print(\"c = \",c)\n",
    "b = 1/a\n",
    "print(\"b = \",b)\n",
    "estimated = c * b\n",
    "print(estimated)\n",
    "print(estimated.shape)\n",
    "df = pd.DataFrame(estimated)\n",
    "na_value = df[1].isna().sum()\n",
    "N = 3 - na_value\n",
    "1/N * df[1].sum()"
   ]
  },
  {
   "cell_type": "code",
   "execution_count": 55,
   "metadata": {},
   "outputs": [
    {
     "data": {
      "text/plain": [
       "3.5"
      ]
     },
     "execution_count": 55,
     "metadata": {},
     "output_type": "execute_result"
    }
   ],
   "source": [
    "df[0].sum()"
   ]
  },
  {
   "cell_type": "code",
   "execution_count": 5,
   "metadata": {},
   "outputs": [
    {
     "name": "stderr",
     "output_type": "stream",
     "text": [
      "c:\\programdata\\anaconda3\\envs\\python36\\lib\\site-packages\\ipykernel_launcher.py:1: RuntimeWarning: divide by zero encountered in true_divide\n",
      "  \"\"\"Entry point for launching an IPython kernel.\n"
     ]
    },
    {
     "data": {
      "text/plain": [
       "array([[1. , 0.5],\n",
       "       [inf, inf]])"
      ]
     },
     "execution_count": 5,
     "metadata": {},
     "output_type": "execute_result"
    }
   ],
   "source": [
    "b = 1/a\n",
    "b"
   ]
  },
  {
   "cell_type": "code",
   "execution_count": 7,
   "metadata": {},
   "outputs": [
    {
     "name": "stderr",
     "output_type": "stream",
     "text": [
      "c:\\programdata\\anaconda3\\envs\\python36\\lib\\site-packages\\ipykernel_launcher.py:2: RuntimeWarning: invalid value encountered in multiply\n",
      "  \n"
     ]
    },
    {
     "data": {
      "text/plain": [
       "array([[ 3.,  2.],\n",
       "       [nan, inf]])"
      ]
     },
     "execution_count": 7,
     "metadata": {},
     "output_type": "execute_result"
    }
   ],
   "source": [
    "c = np.array([[3,4],[0,1]])\n",
    "c * b"
   ]
  },
  {
   "cell_type": "code",
   "execution_count": 34,
   "metadata": {},
   "outputs": [
    {
     "data": {
      "text/plain": [
       "array([[1, 2],\n",
       "       [3, 4]])"
      ]
     },
     "execution_count": 34,
     "metadata": {},
     "output_type": "execute_result"
    }
   ],
   "source": [
    "D = a if D is None else np.concatenate((D,a),0)\n",
    "D"
   ]
  },
  {
   "cell_type": "code",
   "execution_count": 47,
   "metadata": {},
   "outputs": [
    {
     "data": {
      "text/plain": [
       "inf"
      ]
     },
     "execution_count": 47,
     "metadata": {},
     "output_type": "execute_result"
    }
   ],
   "source": [
    "0.3 * np.inf"
   ]
  },
  {
   "cell_type": "code",
   "execution_count": 48,
   "metadata": {},
   "outputs": [
    {
     "data": {
      "text/plain": [
       "inf"
      ]
     },
     "execution_count": 48,
     "metadata": {},
     "output_type": "execute_result"
    }
   ],
   "source": [
    "np.inf * np.inf"
   ]
  },
  {
   "cell_type": "code",
   "execution_count": 267,
   "metadata": {},
   "outputs": [],
   "source": [
    "import pickle\n",
    "output = pickle.load(open(\"C:\\\\Users\\\\Administrator\\\\Desktop\\\\Code_Test\\\\Code_CHARM_Vu_Luong_Fix_Bug\\\\CHARM_Example-MC_Scenarios-master\\\\test.p\",\"rb\"))"
   ]
  },
  {
   "cell_type": "code",
   "execution_count": 268,
   "metadata": {},
   "outputs": [],
   "source": [
    "import pandas as pd\n",
    "df = pd.DataFrame(output[:,:26])\n",
    "y_pred = output[:,:13]\n",
    "y_grouth_trust = output[:,13:26]"
   ]
  },
  {
   "cell_type": "code",
   "execution_count": 269,
   "metadata": {
    "scrolled": true
   },
   "outputs": [
    {
     "name": "stderr",
     "output_type": "stream",
     "text": [
      "c:\\programdata\\anaconda3\\envs\\python36\\lib\\site-packages\\ipykernel_launcher.py:1: RuntimeWarning: divide by zero encountered in true_divide\n",
      "  \"\"\"Entry point for launching an IPython kernel.\n"
     ]
    }
   ],
   "source": [
    "c = 1/y_grouth_trust"
   ]
  },
  {
   "cell_type": "code",
   "execution_count": 270,
   "metadata": {},
   "outputs": [],
   "source": [
    "loss_abs = abs(y_pred - y_grouth_trust)"
   ]
  },
  {
   "cell_type": "code",
   "execution_count": 271,
   "metadata": {},
   "outputs": [],
   "source": [
    "def check_null_value(df,i):\n",
    "    count = 0\n",
    "    for j in range(4500):\n",
    "        if(np.isinf(df[i][j]) or np.isnan(df[i][j])):\n",
    "            count+=1\n",
    "    return count"
   ]
  },
  {
   "cell_type": "code",
   "execution_count": 272,
   "metadata": {},
   "outputs": [],
   "source": [
    "def sum_caculation(df,i):\n",
    "    df[i][df[i] == np.inf] = 0\n",
    "    sum_col = df[i].sum()\n",
    "    return sum_col"
   ]
  },
  {
   "cell_type": "code",
   "execution_count": 273,
   "metadata": {},
   "outputs": [
    {
     "name": "stderr",
     "output_type": "stream",
     "text": [
      "c:\\programdata\\anaconda3\\envs\\python36\\lib\\site-packages\\ipykernel_launcher.py:1: RuntimeWarning: invalid value encountered in multiply\n",
      "  \"\"\"Entry point for launching an IPython kernel.\n"
     ]
    },
    {
     "name": "stdout",
     "output_type": "stream",
     "text": [
      "na_count 4000\n",
      "inf\n",
      "na_count 4000\n",
      "inf\n",
      "na_count 4000\n",
      "inf\n",
      "na_count 4000\n",
      "inf\n",
      "na_count 3500\n",
      "inf\n",
      "na_count 3500\n",
      "inf\n",
      "na_count 4500\n",
      "na_count 4500\n",
      "na_count 4500\n",
      "na_count 4500\n",
      "na_count 4500\n",
      "na_count 4500\n",
      "na_count 4500\n"
     ]
    }
   ],
   "source": [
    "estimated_value = c * loss_abs\n",
    "df = pd.DataFrame(estimated_value)\n",
    "AEE = {}   \n",
    "for i in range(estimated_value.shape[1]):\n",
    "    na_count = check_null_value(df,i)        #Count number null value(na)\n",
    "    print(\"na_count\",na_count)\n",
    "    N = estimated_value.shape[0] - na_count\n",
    "    if N != 0:\n",
    "        sum_col = sum_caculation(df,i)\n",
    "        AEE_value = 1/N * sum_col\n",
    "        AEE.update({'AEE_{}'.format(i):AEE_value})\n",
    "    else:\n",
    "        AEE.update({'AEE_{}'.format(i):\"null\"})"
   ]
  },
  {
   "cell_type": "code",
   "execution_count": 284,
   "metadata": {},
   "outputs": [],
   "source": [
    "df[0][df[0] == np.inf] = 0"
   ]
  },
  {
   "cell_type": "code",
   "execution_count": 289,
   "metadata": {},
   "outputs": [
    {
     "data": {
      "text/plain": [
       "499.9795982250549"
      ]
     },
     "execution_count": 289,
     "metadata": {},
     "output_type": "execute_result"
    }
   ],
   "source": [
    "df[0].sum()"
   ]
  },
  {
   "cell_type": "code",
   "execution_count": 277,
   "metadata": {},
   "outputs": [],
   "source": [
    "z = np.copy(df)"
   ]
  },
  {
   "cell_type": "code",
   "execution_count": 280,
   "metadata": {},
   "outputs": [
    {
     "data": {
      "text/plain": [
       "array([[inf, inf, inf, ..., nan, nan, nan],\n",
       "       [inf, inf, inf, ..., nan, nan, nan],\n",
       "       [inf, inf, inf, ..., nan, nan, nan],\n",
       "       ...,\n",
       "       [inf, inf, inf, ..., nan, nan, nan],\n",
       "       [inf, inf, inf, ..., nan, nan, nan],\n",
       "       [inf, inf, inf, ..., nan, nan, nan]])"
      ]
     },
     "execution_count": 280,
     "metadata": {},
     "output_type": "execute_result"
    }
   ],
   "source": [
    "z"
   ]
  },
  {
   "cell_type": "code",
   "execution_count": 258,
   "metadata": {},
   "outputs": [
    {
     "data": {
      "text/plain": [
       "0.0"
      ]
     },
     "execution_count": 258,
     "metadata": {},
     "output_type": "execute_result"
    }
   ],
   "source": [
    "df[i].sum()"
   ]
  },
  {
   "cell_type": "code",
   "execution_count": 259,
   "metadata": {},
   "outputs": [
    {
     "data": {
      "text/plain": [
       "array([[ 0.,  0.,  0., ..., nan, nan, nan],\n",
       "       [ 0.,  0.,  0., ..., nan, nan, nan],\n",
       "       [ 0.,  0.,  0., ..., nan, nan, nan],\n",
       "       ...,\n",
       "       [ 0.,  0.,  0., ..., nan, nan, nan],\n",
       "       [ 0.,  0.,  0., ..., nan, nan, nan],\n",
       "       [ 0.,  0.,  0., ..., nan, nan, nan]])"
      ]
     },
     "execution_count": 259,
     "metadata": {},
     "output_type": "execute_result"
    }
   ],
   "source": [
    "z"
   ]
  },
  {
   "cell_type": "code",
   "execution_count": 249,
   "metadata": {},
   "outputs": [],
   "source": [
    "z[z == np.inf] = 0"
   ]
  },
  {
   "cell_type": "code",
   "execution_count": 251,
   "metadata": {},
   "outputs": [
    {
     "data": {
      "text/plain": [
       "array([[ 0.,  0.,  0., ..., nan, nan, nan],\n",
       "       [ 0.,  0.,  0., ..., nan, nan, nan],\n",
       "       [ 0.,  0.,  0., ..., nan, nan, nan],\n",
       "       ...,\n",
       "       [ 0.,  0.,  0., ..., nan, nan, nan],\n",
       "       [ 0.,  0.,  0., ..., nan, nan, nan],\n",
       "       [ 0.,  0.,  0., ..., nan, nan, nan]])"
      ]
     },
     "execution_count": 251,
     "metadata": {},
     "output_type": "execute_result"
    }
   ],
   "source": [
    "z"
   ]
  },
  {
   "cell_type": "code",
   "execution_count": 266,
   "metadata": {},
   "outputs": [
    {
     "data": {
      "text/plain": [
       "array([ 0.,  0.,  0.,  0.,  0.,  0., nan, nan, nan, nan, nan, nan, nan])"
      ]
     },
     "execution_count": 266,
     "metadata": {},
     "output_type": "execute_result"
    }
   ],
   "source": [
    "z[:,]"
   ]
  },
  {
   "cell_type": "code",
   "execution_count": null,
   "metadata": {},
   "outputs": [],
   "source": []
  }
 ],
 "metadata": {
  "kernelspec": {
   "display_name": "Python 3",
   "language": "python",
   "name": "python3"
  },
  "language_info": {
   "codemirror_mode": {
    "name": "ipython",
    "version": 3
   },
   "file_extension": ".py",
   "mimetype": "text/x-python",
   "name": "python",
   "nbconvert_exporter": "python",
   "pygments_lexer": "ipython3",
   "version": "3.6.10"
  }
 },
 "nbformat": 4,
 "nbformat_minor": 2
}
